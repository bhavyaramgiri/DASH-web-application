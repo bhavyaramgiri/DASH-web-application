{
 "cells": [
  {
   "cell_type": "markdown",
   "metadata": {},
   "source": [
    "# Project Sunroof"
   ]
  },
  {
   "cell_type": "markdown",
   "metadata": {},
   "source": [
    "#### I have four csv files with respect to this project. They are \"state.csv\", \"county.csv\", \"city.csv\" and \"zipcode.csv\". "
   ]
  },
  {
   "cell_type": "code",
   "execution_count": 1,
   "metadata": {},
   "outputs": [],
   "source": [
    "import pandas as pd"
   ]
  },
  {
   "cell_type": "markdown",
   "metadata": {},
   "source": [
    "#### ============================================================================================================================\n",
    "## Cleaning the \"city\" dataframe."
   ]
  },
  {
   "cell_type": "code",
   "execution_count": 3,
   "metadata": {},
   "outputs": [
    {
     "name": "stdout",
     "output_type": "stream",
     "text": [
      "Index(['region_name', 'state_name', 'lat_max', 'lat_min', 'lng_max', 'lng_min',\n",
      "       'lat_avg', 'lng_avg', 'yearly_sunlight_kwh_kw_threshold_avg',\n",
      "       'count_qualified', 'percent_covered', 'percent_qualified',\n",
      "       'number_of_panels_n', 'number_of_panels_s', 'number_of_panels_e',\n",
      "       'number_of_panels_w', 'number_of_panels_f', 'number_of_panels_median',\n",
      "       'number_of_panels_total', 'kw_median', 'kw_total',\n",
      "       'yearly_sunlight_kwh_n', 'yearly_sunlight_kwh_s',\n",
      "       'yearly_sunlight_kwh_e', 'yearly_sunlight_kwh_w',\n",
      "       'yearly_sunlight_kwh_f', 'yearly_sunlight_kwh_median',\n",
      "       'yearly_sunlight_kwh_total', 'install_size_kw_buckets_json',\n",
      "       'carbon_offset_metric_tons', 'existing_installs_count'],\n",
      "      dtype='object')\n"
     ]
    },
    {
     "data": {
      "text/plain": [
       "(7930, 31)"
      ]
     },
     "execution_count": 3,
     "metadata": {},
     "output_type": "execute_result"
    }
   ],
   "source": [
    "document = \"city.csv\"\n",
    "city = pd.read_csv(document)\n",
    "print(city.columns)\n",
    "city.shape"
   ]
  },
  {
   "cell_type": "markdown",
   "metadata": {},
   "source": [
    "#### The 0th and 1st row's region name is missing, without name the values are useless, removing these rows. The rest of the dataframe has region names but with 33 rows having NaN values across the variables, replacing those NaN's with zero. Removing \"install_size_kw_buckets_json\" column, the data in this column is unreadable and will not be used in this project. "
   ]
  },
  {
   "cell_type": "code",
   "execution_count": 6,
   "metadata": {},
   "outputs": [
    {
     "data": {
      "text/html": [
       "<div>\n",
       "<style scoped>\n",
       "    .dataframe tbody tr th:only-of-type {\n",
       "        vertical-align: middle;\n",
       "    }\n",
       "\n",
       "    .dataframe tbody tr th {\n",
       "        vertical-align: top;\n",
       "    }\n",
       "\n",
       "    .dataframe thead th {\n",
       "        text-align: right;\n",
       "    }\n",
       "</style>\n",
       "<table border=\"1\" class=\"dataframe\">\n",
       "  <thead>\n",
       "    <tr style=\"text-align: right;\">\n",
       "      <th></th>\n",
       "      <th>region_name</th>\n",
       "      <th>state_name</th>\n",
       "      <th>lat_max</th>\n",
       "      <th>lat_min</th>\n",
       "      <th>lng_max</th>\n",
       "      <th>lng_min</th>\n",
       "      <th>lat_avg</th>\n",
       "      <th>lng_avg</th>\n",
       "      <th>yearly_sunlight_kwh_kw_threshold_avg</th>\n",
       "      <th>count_qualified</th>\n",
       "      <th>...</th>\n",
       "      <th>yearly_sunlight_kwh_n</th>\n",
       "      <th>yearly_sunlight_kwh_s</th>\n",
       "      <th>yearly_sunlight_kwh_e</th>\n",
       "      <th>yearly_sunlight_kwh_w</th>\n",
       "      <th>yearly_sunlight_kwh_f</th>\n",
       "      <th>yearly_sunlight_kwh_median</th>\n",
       "      <th>yearly_sunlight_kwh_total</th>\n",
       "      <th>install_size_kw_buckets_json</th>\n",
       "      <th>carbon_offset_metric_tons</th>\n",
       "      <th>existing_installs_count</th>\n",
       "    </tr>\n",
       "  </thead>\n",
       "  <tbody>\n",
       "    <tr>\n",
       "      <th>0</th>\n",
       "      <td>NaN</td>\n",
       "      <td>Pennsylvania</td>\n",
       "      <td>40.701884</td>\n",
       "      <td>40.612937</td>\n",
       "      <td>-75.462191</td>\n",
       "      <td>-75.546116</td>\n",
       "      <td>40.650352</td>\n",
       "      <td>-75.495835</td>\n",
       "      <td>985.15</td>\n",
       "      <td>7673</td>\n",
       "      <td>...</td>\n",
       "      <td>1.002516e+07</td>\n",
       "      <td>3.514971e+07</td>\n",
       "      <td>2.304186e+07</td>\n",
       "      <td>2.454188e+07</td>\n",
       "      <td>5.992748e+07</td>\n",
       "      <td>9215.539380</td>\n",
       "      <td>1.526861e+08</td>\n",
       "      <td>[[0,2009],[5,2674],[10,1358],[15,696],[20,286]...</td>\n",
       "      <td>97025.991471</td>\n",
       "      <td>11</td>\n",
       "    </tr>\n",
       "    <tr>\n",
       "      <th>1</th>\n",
       "      <td>NaN</td>\n",
       "      <td>NaN</td>\n",
       "      <td>32.551561</td>\n",
       "      <td>32.542257</td>\n",
       "      <td>-116.919812</td>\n",
       "      <td>-117.030077</td>\n",
       "      <td>32.548449</td>\n",
       "      <td>-116.956736</td>\n",
       "      <td>1300.50</td>\n",
       "      <td>2</td>\n",
       "      <td>...</td>\n",
       "      <td>4.745559e+03</td>\n",
       "      <td>7.692078e+03</td>\n",
       "      <td>0.000000e+00</td>\n",
       "      <td>0.000000e+00</td>\n",
       "      <td>0.000000e+00</td>\n",
       "      <td>5209.464685</td>\n",
       "      <td>1.243764e+04</td>\n",
       "      <td>[[0,2]]</td>\n",
       "      <td>0.000000</td>\n",
       "      <td>0</td>\n",
       "    </tr>\n",
       "    <tr>\n",
       "      <th>134</th>\n",
       "      <td>Angelus Oaks</td>\n",
       "      <td>California</td>\n",
       "      <td>34.230334</td>\n",
       "      <td>34.136015</td>\n",
       "      <td>-116.850403</td>\n",
       "      <td>-116.985231</td>\n",
       "      <td>34.154923</td>\n",
       "      <td>-116.960563</td>\n",
       "      <td>1447.55</td>\n",
       "      <td>0</td>\n",
       "      <td>...</td>\n",
       "      <td>0.000000e+00</td>\n",
       "      <td>0.000000e+00</td>\n",
       "      <td>0.000000e+00</td>\n",
       "      <td>0.000000e+00</td>\n",
       "      <td>0.000000e+00</td>\n",
       "      <td>NaN</td>\n",
       "      <td>NaN</td>\n",
       "      <td>NaN</td>\n",
       "      <td>0.000000</td>\n",
       "      <td>0</td>\n",
       "    </tr>\n",
       "    <tr>\n",
       "      <th>180</th>\n",
       "      <td>Ardsley</td>\n",
       "      <td>New York</td>\n",
       "      <td>41.030778</td>\n",
       "      <td>40.992906</td>\n",
       "      <td>-73.822677</td>\n",
       "      <td>-73.857482</td>\n",
       "      <td>41.012928</td>\n",
       "      <td>-73.840729</td>\n",
       "      <td>991.95</td>\n",
       "      <td>0</td>\n",
       "      <td>...</td>\n",
       "      <td>0.000000e+00</td>\n",
       "      <td>0.000000e+00</td>\n",
       "      <td>0.000000e+00</td>\n",
       "      <td>0.000000e+00</td>\n",
       "      <td>0.000000e+00</td>\n",
       "      <td>NaN</td>\n",
       "      <td>NaN</td>\n",
       "      <td>NaN</td>\n",
       "      <td>0.000000</td>\n",
       "      <td>0</td>\n",
       "    </tr>\n",
       "    <tr>\n",
       "      <th>522</th>\n",
       "      <td>Bernardsville</td>\n",
       "      <td>New Jersey</td>\n",
       "      <td>40.754852</td>\n",
       "      <td>40.694182</td>\n",
       "      <td>-74.553812</td>\n",
       "      <td>-74.617992</td>\n",
       "      <td>40.717998</td>\n",
       "      <td>-74.570050</td>\n",
       "      <td>996.20</td>\n",
       "      <td>0</td>\n",
       "      <td>...</td>\n",
       "      <td>0.000000e+00</td>\n",
       "      <td>0.000000e+00</td>\n",
       "      <td>0.000000e+00</td>\n",
       "      <td>0.000000e+00</td>\n",
       "      <td>0.000000e+00</td>\n",
       "      <td>NaN</td>\n",
       "      <td>NaN</td>\n",
       "      <td>NaN</td>\n",
       "      <td>0.000000</td>\n",
       "      <td>0</td>\n",
       "    </tr>\n",
       "  </tbody>\n",
       "</table>\n",
       "<p>5 rows × 31 columns</p>\n",
       "</div>"
      ],
      "text/plain": [
       "       region_name    state_name    lat_max    lat_min     lng_max  \\\n",
       "0              NaN  Pennsylvania  40.701884  40.612937  -75.462191   \n",
       "1              NaN           NaN  32.551561  32.542257 -116.919812   \n",
       "134   Angelus Oaks    California  34.230334  34.136015 -116.850403   \n",
       "180        Ardsley      New York  41.030778  40.992906  -73.822677   \n",
       "522  Bernardsville    New Jersey  40.754852  40.694182  -74.553812   \n",
       "\n",
       "        lng_min    lat_avg     lng_avg  yearly_sunlight_kwh_kw_threshold_avg  \\\n",
       "0    -75.546116  40.650352  -75.495835                                985.15   \n",
       "1   -117.030077  32.548449 -116.956736                               1300.50   \n",
       "134 -116.985231  34.154923 -116.960563                               1447.55   \n",
       "180  -73.857482  41.012928  -73.840729                                991.95   \n",
       "522  -74.617992  40.717998  -74.570050                                996.20   \n",
       "\n",
       "     count_qualified           ...             yearly_sunlight_kwh_n  \\\n",
       "0               7673           ...                      1.002516e+07   \n",
       "1                  2           ...                      4.745559e+03   \n",
       "134                0           ...                      0.000000e+00   \n",
       "180                0           ...                      0.000000e+00   \n",
       "522                0           ...                      0.000000e+00   \n",
       "\n",
       "     yearly_sunlight_kwh_s  yearly_sunlight_kwh_e  yearly_sunlight_kwh_w  \\\n",
       "0             3.514971e+07           2.304186e+07           2.454188e+07   \n",
       "1             7.692078e+03           0.000000e+00           0.000000e+00   \n",
       "134           0.000000e+00           0.000000e+00           0.000000e+00   \n",
       "180           0.000000e+00           0.000000e+00           0.000000e+00   \n",
       "522           0.000000e+00           0.000000e+00           0.000000e+00   \n",
       "\n",
       "     yearly_sunlight_kwh_f  yearly_sunlight_kwh_median  \\\n",
       "0             5.992748e+07                 9215.539380   \n",
       "1             0.000000e+00                 5209.464685   \n",
       "134           0.000000e+00                         NaN   \n",
       "180           0.000000e+00                         NaN   \n",
       "522           0.000000e+00                         NaN   \n",
       "\n",
       "     yearly_sunlight_kwh_total  \\\n",
       "0                 1.526861e+08   \n",
       "1                 1.243764e+04   \n",
       "134                        NaN   \n",
       "180                        NaN   \n",
       "522                        NaN   \n",
       "\n",
       "                          install_size_kw_buckets_json  \\\n",
       "0    [[0,2009],[5,2674],[10,1358],[15,696],[20,286]...   \n",
       "1                                              [[0,2]]   \n",
       "134                                                NaN   \n",
       "180                                                NaN   \n",
       "522                                                NaN   \n",
       "\n",
       "     carbon_offset_metric_tons  existing_installs_count  \n",
       "0                 97025.991471                       11  \n",
       "1                     0.000000                        0  \n",
       "134                   0.000000                        0  \n",
       "180                   0.000000                        0  \n",
       "522                   0.000000                        0  \n",
       "\n",
       "[5 rows x 31 columns]"
      ]
     },
     "execution_count": 6,
     "metadata": {},
     "output_type": "execute_result"
    }
   ],
   "source": [
    "null_city=city[city.isnull().any(axis=1)] \n",
    "null_city.head()"
   ]
  },
  {
   "cell_type": "code",
   "execution_count": 7,
   "metadata": {},
   "outputs": [
    {
     "data": {
      "text/plain": [
       "(33, 31)"
      ]
     },
     "execution_count": 7,
     "metadata": {},
     "output_type": "execute_result"
    }
   ],
   "source": [
    "null_city.shape  # "
   ]
  },
  {
   "cell_type": "code",
   "execution_count": 8,
   "metadata": {},
   "outputs": [
    {
     "data": {
      "text/plain": [
       "(7928, 30)"
      ]
     },
     "execution_count": 8,
     "metadata": {},
     "output_type": "execute_result"
    }
   ],
   "source": [
    "city = city.drop(city.index[0:2]) # the rows reduced from 7930 to 7928\n",
    "city = city.drop(\"install_size_kw_buckets_json\", axis=1) # the columns reduced from 31 to 30\n",
    "city.shape"
   ]
  },
  {
   "cell_type": "code",
   "execution_count": 9,
   "metadata": {},
   "outputs": [],
   "source": [
    " city = city.fillna(0)"
   ]
  },
  {
   "cell_type": "code",
   "execution_count": 10,
   "metadata": {},
   "outputs": [
    {
     "data": {
      "text/html": [
       "<div>\n",
       "<style scoped>\n",
       "    .dataframe tbody tr th:only-of-type {\n",
       "        vertical-align: middle;\n",
       "    }\n",
       "\n",
       "    .dataframe tbody tr th {\n",
       "        vertical-align: top;\n",
       "    }\n",
       "\n",
       "    .dataframe thead th {\n",
       "        text-align: right;\n",
       "    }\n",
       "</style>\n",
       "<table border=\"1\" class=\"dataframe\">\n",
       "  <thead>\n",
       "    <tr style=\"text-align: right;\">\n",
       "      <th></th>\n",
       "      <th>region_name</th>\n",
       "      <th>state_name</th>\n",
       "      <th>lat_max</th>\n",
       "      <th>lat_min</th>\n",
       "      <th>lng_max</th>\n",
       "      <th>lng_min</th>\n",
       "      <th>lat_avg</th>\n",
       "      <th>lng_avg</th>\n",
       "      <th>yearly_sunlight_kwh_kw_threshold_avg</th>\n",
       "      <th>count_qualified</th>\n",
       "      <th>...</th>\n",
       "      <th>kw_total</th>\n",
       "      <th>yearly_sunlight_kwh_n</th>\n",
       "      <th>yearly_sunlight_kwh_s</th>\n",
       "      <th>yearly_sunlight_kwh_e</th>\n",
       "      <th>yearly_sunlight_kwh_w</th>\n",
       "      <th>yearly_sunlight_kwh_f</th>\n",
       "      <th>yearly_sunlight_kwh_median</th>\n",
       "      <th>yearly_sunlight_kwh_total</th>\n",
       "      <th>carbon_offset_metric_tons</th>\n",
       "      <th>existing_installs_count</th>\n",
       "    </tr>\n",
       "  </thead>\n",
       "  <tbody>\n",
       "  </tbody>\n",
       "</table>\n",
       "<p>0 rows × 30 columns</p>\n",
       "</div>"
      ],
      "text/plain": [
       "Empty DataFrame\n",
       "Columns: [region_name, state_name, lat_max, lat_min, lng_max, lng_min, lat_avg, lng_avg, yearly_sunlight_kwh_kw_threshold_avg, count_qualified, percent_covered, percent_qualified, number_of_panels_n, number_of_panels_s, number_of_panels_e, number_of_panels_w, number_of_panels_f, number_of_panels_median, number_of_panels_total, kw_median, kw_total, yearly_sunlight_kwh_n, yearly_sunlight_kwh_s, yearly_sunlight_kwh_e, yearly_sunlight_kwh_w, yearly_sunlight_kwh_f, yearly_sunlight_kwh_median, yearly_sunlight_kwh_total, carbon_offset_metric_tons, existing_installs_count]\n",
       "Index: []\n",
       "\n",
       "[0 rows x 30 columns]"
      ]
     },
     "execution_count": 10,
     "metadata": {},
     "output_type": "execute_result"
    }
   ],
   "source": [
    "city[city.isnull().any(axis=1)] # sanity check for zeros"
   ]
  },
  {
   "cell_type": "markdown",
   "metadata": {},
   "source": [
    "#### ============================================================================================================================\n",
    "## Cleaning the \"state\" dataframe."
   ]
  },
  {
   "cell_type": "code",
   "execution_count": 11,
   "metadata": {},
   "outputs": [
    {
     "name": "stdout",
     "output_type": "stream",
     "text": [
      "Index(['region_name', 'state_name', 'lat_max', 'lat_min', 'lng_max', 'lng_min',\n",
      "       'lat_avg', 'lng_avg', 'yearly_sunlight_kwh_kw_threshold_avg',\n",
      "       'count_qualified', 'percent_covered', 'percent_qualified',\n",
      "       'number_of_panels_n', 'number_of_panels_s', 'number_of_panels_e',\n",
      "       'number_of_panels_w', 'number_of_panels_f', 'number_of_panels_median',\n",
      "       'number_of_panels_total', 'kw_median', 'kw_total',\n",
      "       'yearly_sunlight_kwh_n', 'yearly_sunlight_kwh_s',\n",
      "       'yearly_sunlight_kwh_e', 'yearly_sunlight_kwh_w',\n",
      "       'yearly_sunlight_kwh_f', 'yearly_sunlight_kwh_median',\n",
      "       'yearly_sunlight_kwh_total', 'install_size_kw_buckets_json',\n",
      "       'carbon_offset_metric_tons', 'existing_installs_count'],\n",
      "      dtype='object')\n",
      "(52, 31)\n"
     ]
    }
   ],
   "source": [
    "document = \"state.csv\"\n",
    "state = pd.read_csv(document)\n",
    "print(state.columns)\n",
    "print(state.shape)"
   ]
  },
  {
   "cell_type": "markdown",
   "metadata": {},
   "source": [
    "#### Only the 0th observation has NaN under the region's name, will be removing this row. Removing \"install_size_kw_buckets_json\" column, the data in this column is unreadable and will not be used in this project. "
   ]
  },
  {
   "cell_type": "code",
   "execution_count": 12,
   "metadata": {},
   "outputs": [
    {
     "data": {
      "text/html": [
       "<div>\n",
       "<style scoped>\n",
       "    .dataframe tbody tr th:only-of-type {\n",
       "        vertical-align: middle;\n",
       "    }\n",
       "\n",
       "    .dataframe tbody tr th {\n",
       "        vertical-align: top;\n",
       "    }\n",
       "\n",
       "    .dataframe thead th {\n",
       "        text-align: right;\n",
       "    }\n",
       "</style>\n",
       "<table border=\"1\" class=\"dataframe\">\n",
       "  <thead>\n",
       "    <tr style=\"text-align: right;\">\n",
       "      <th></th>\n",
       "      <th>region_name</th>\n",
       "      <th>state_name</th>\n",
       "      <th>lat_max</th>\n",
       "      <th>lat_min</th>\n",
       "      <th>lng_max</th>\n",
       "      <th>lng_min</th>\n",
       "      <th>lat_avg</th>\n",
       "      <th>lng_avg</th>\n",
       "      <th>yearly_sunlight_kwh_kw_threshold_avg</th>\n",
       "      <th>count_qualified</th>\n",
       "      <th>...</th>\n",
       "      <th>yearly_sunlight_kwh_n</th>\n",
       "      <th>yearly_sunlight_kwh_s</th>\n",
       "      <th>yearly_sunlight_kwh_e</th>\n",
       "      <th>yearly_sunlight_kwh_w</th>\n",
       "      <th>yearly_sunlight_kwh_f</th>\n",
       "      <th>yearly_sunlight_kwh_median</th>\n",
       "      <th>yearly_sunlight_kwh_total</th>\n",
       "      <th>install_size_kw_buckets_json</th>\n",
       "      <th>carbon_offset_metric_tons</th>\n",
       "      <th>existing_installs_count</th>\n",
       "    </tr>\n",
       "  </thead>\n",
       "  <tbody>\n",
       "    <tr>\n",
       "      <th>0</th>\n",
       "      <td>NaN</td>\n",
       "      <td>NaN</td>\n",
       "      <td>32.651912</td>\n",
       "      <td>32.542257</td>\n",
       "      <td>-115.667998</td>\n",
       "      <td>-117.030077</td>\n",
       "      <td>32.574314</td>\n",
       "      <td>-116.634551</td>\n",
       "      <td>1300.358333</td>\n",
       "      <td>2</td>\n",
       "      <td>...</td>\n",
       "      <td>4745.559338</td>\n",
       "      <td>7692.07832</td>\n",
       "      <td>0.0</td>\n",
       "      <td>0.0</td>\n",
       "      <td>0.0</td>\n",
       "      <td>5209.464685</td>\n",
       "      <td>12437.637659</td>\n",
       "      <td>[[0,2]]</td>\n",
       "      <td>0.0</td>\n",
       "      <td>0</td>\n",
       "    </tr>\n",
       "  </tbody>\n",
       "</table>\n",
       "<p>1 rows × 31 columns</p>\n",
       "</div>"
      ],
      "text/plain": [
       "  region_name state_name    lat_max    lat_min     lng_max     lng_min  \\\n",
       "0         NaN        NaN  32.651912  32.542257 -115.667998 -117.030077   \n",
       "\n",
       "     lat_avg     lng_avg  yearly_sunlight_kwh_kw_threshold_avg  \\\n",
       "0  32.574314 -116.634551                           1300.358333   \n",
       "\n",
       "   count_qualified           ...             yearly_sunlight_kwh_n  \\\n",
       "0                2           ...                       4745.559338   \n",
       "\n",
       "   yearly_sunlight_kwh_s  yearly_sunlight_kwh_e  yearly_sunlight_kwh_w  \\\n",
       "0             7692.07832                    0.0                    0.0   \n",
       "\n",
       "   yearly_sunlight_kwh_f  yearly_sunlight_kwh_median  \\\n",
       "0                    0.0                 5209.464685   \n",
       "\n",
       "   yearly_sunlight_kwh_total  install_size_kw_buckets_json  \\\n",
       "0               12437.637659                       [[0,2]]   \n",
       "\n",
       "   carbon_offset_metric_tons  existing_installs_count  \n",
       "0                        0.0                        0  \n",
       "\n",
       "[1 rows x 31 columns]"
      ]
     },
     "execution_count": 12,
     "metadata": {},
     "output_type": "execute_result"
    }
   ],
   "source": [
    "state[state.isnull().any(axis=1)] "
   ]
  },
  {
   "cell_type": "code",
   "execution_count": 13,
   "metadata": {},
   "outputs": [
    {
     "data": {
      "text/plain": [
       "(51, 30)"
      ]
     },
     "execution_count": 13,
     "metadata": {},
     "output_type": "execute_result"
    }
   ],
   "source": [
    "state = state.drop(state.index[0])\n",
    "state = state.drop(\"install_size_kw_buckets_json\", axis=1)\n",
    "state.shape # dimension is changed from (52,31) to (51,30) after all the above operations."
   ]
  },
  {
   "cell_type": "markdown",
   "metadata": {},
   "source": [
    "#### ============================================================================================================================\n",
    "## Cleaning the \"county\" dataframe."
   ]
  },
  {
   "cell_type": "code",
   "execution_count": 14,
   "metadata": {},
   "outputs": [
    {
     "name": "stdout",
     "output_type": "stream",
     "text": [
      "Index(['region_name', 'state_name', 'lat_max', 'lat_min', 'lng_max', 'lng_min',\n",
      "       'lat_avg', 'lng_avg', 'yearly_sunlight_kwh_kw_threshold_avg',\n",
      "       'count_qualified', 'percent_covered', 'percent_qualified',\n",
      "       'number_of_panels_n', 'number_of_panels_s', 'number_of_panels_e',\n",
      "       'number_of_panels_w', 'number_of_panels_f', 'number_of_panels_median',\n",
      "       'number_of_panels_total', 'kw_median', 'kw_total',\n",
      "       'yearly_sunlight_kwh_n', 'yearly_sunlight_kwh_s',\n",
      "       'yearly_sunlight_kwh_e', 'yearly_sunlight_kwh_w',\n",
      "       'yearly_sunlight_kwh_f', 'yearly_sunlight_kwh_median',\n",
      "       'yearly_sunlight_kwh_total', 'install_size_kw_buckets_json',\n",
      "       'carbon_offset_metric_tons', 'existing_installs_count'],\n",
      "      dtype='object')\n",
      "(910, 31)\n"
     ]
    }
   ],
   "source": [
    "document = \"county.csv\"\n",
    "county = pd.read_csv(document)\n",
    "print(county.columns)\n",
    "print(county.shape)"
   ]
  },
  {
   "cell_type": "code",
   "execution_count": 15,
   "metadata": {},
   "outputs": [
    {
     "data": {
      "text/html": [
       "<div>\n",
       "<style scoped>\n",
       "    .dataframe tbody tr th:only-of-type {\n",
       "        vertical-align: middle;\n",
       "    }\n",
       "\n",
       "    .dataframe tbody tr th {\n",
       "        vertical-align: top;\n",
       "    }\n",
       "\n",
       "    .dataframe thead th {\n",
       "        text-align: right;\n",
       "    }\n",
       "</style>\n",
       "<table border=\"1\" class=\"dataframe\">\n",
       "  <thead>\n",
       "    <tr style=\"text-align: right;\">\n",
       "      <th></th>\n",
       "      <th>region_name</th>\n",
       "      <th>state_name</th>\n",
       "      <th>lat_max</th>\n",
       "      <th>lat_min</th>\n",
       "      <th>lng_max</th>\n",
       "      <th>lng_min</th>\n",
       "      <th>lat_avg</th>\n",
       "      <th>lng_avg</th>\n",
       "      <th>yearly_sunlight_kwh_kw_threshold_avg</th>\n",
       "      <th>count_qualified</th>\n",
       "      <th>...</th>\n",
       "      <th>yearly_sunlight_kwh_n</th>\n",
       "      <th>yearly_sunlight_kwh_s</th>\n",
       "      <th>yearly_sunlight_kwh_e</th>\n",
       "      <th>yearly_sunlight_kwh_w</th>\n",
       "      <th>yearly_sunlight_kwh_f</th>\n",
       "      <th>yearly_sunlight_kwh_median</th>\n",
       "      <th>yearly_sunlight_kwh_total</th>\n",
       "      <th>install_size_kw_buckets_json</th>\n",
       "      <th>carbon_offset_metric_tons</th>\n",
       "      <th>existing_installs_count</th>\n",
       "    </tr>\n",
       "  </thead>\n",
       "  <tbody>\n",
       "    <tr>\n",
       "      <th>0</th>\n",
       "      <td>NaN</td>\n",
       "      <td>NaN</td>\n",
       "      <td>32.551561</td>\n",
       "      <td>32.551527</td>\n",
       "      <td>-116.919812</td>\n",
       "      <td>-116.920318</td>\n",
       "      <td>32.551544</td>\n",
       "      <td>-116.920065</td>\n",
       "      <td>1299.65</td>\n",
       "      <td>2</td>\n",
       "      <td>...</td>\n",
       "      <td>4745.559338</td>\n",
       "      <td>7692.07832</td>\n",
       "      <td>0.0</td>\n",
       "      <td>0.0</td>\n",
       "      <td>0.0</td>\n",
       "      <td>5209.464685</td>\n",
       "      <td>12437.637659</td>\n",
       "      <td>[[0,2]]</td>\n",
       "      <td>0.0</td>\n",
       "      <td>0</td>\n",
       "    </tr>\n",
       "    <tr>\n",
       "      <th>65</th>\n",
       "      <td>Bland County</td>\n",
       "      <td>Virginia</td>\n",
       "      <td>37.259341</td>\n",
       "      <td>37.045761</td>\n",
       "      <td>-81.015011</td>\n",
       "      <td>-81.228347</td>\n",
       "      <td>37.134732</td>\n",
       "      <td>-81.100814</td>\n",
       "      <td>864.45</td>\n",
       "      <td>0</td>\n",
       "      <td>...</td>\n",
       "      <td>0.000000</td>\n",
       "      <td>0.00000</td>\n",
       "      <td>0.0</td>\n",
       "      <td>0.0</td>\n",
       "      <td>0.0</td>\n",
       "      <td>NaN</td>\n",
       "      <td>NaN</td>\n",
       "      <td>NaN</td>\n",
       "      <td>0.0</td>\n",
       "      <td>0</td>\n",
       "    </tr>\n",
       "    <tr>\n",
       "      <th>102</th>\n",
       "      <td>Burleson County</td>\n",
       "      <td>Texas</td>\n",
       "      <td>30.613641</td>\n",
       "      <td>30.336323</td>\n",
       "      <td>-96.335579</td>\n",
       "      <td>-96.802572</td>\n",
       "      <td>30.481088</td>\n",
       "      <td>-96.636569</td>\n",
       "      <td>1055.70</td>\n",
       "      <td>0</td>\n",
       "      <td>...</td>\n",
       "      <td>0.000000</td>\n",
       "      <td>0.00000</td>\n",
       "      <td>0.0</td>\n",
       "      <td>0.0</td>\n",
       "      <td>0.0</td>\n",
       "      <td>NaN</td>\n",
       "      <td>NaN</td>\n",
       "      <td>NaN</td>\n",
       "      <td>0.0</td>\n",
       "      <td>0</td>\n",
       "    </tr>\n",
       "  </tbody>\n",
       "</table>\n",
       "<p>3 rows × 31 columns</p>\n",
       "</div>"
      ],
      "text/plain": [
       "         region_name state_name    lat_max    lat_min     lng_max     lng_min  \\\n",
       "0                NaN        NaN  32.551561  32.551527 -116.919812 -116.920318   \n",
       "65      Bland County   Virginia  37.259341  37.045761  -81.015011  -81.228347   \n",
       "102  Burleson County      Texas  30.613641  30.336323  -96.335579  -96.802572   \n",
       "\n",
       "       lat_avg     lng_avg  yearly_sunlight_kwh_kw_threshold_avg  \\\n",
       "0    32.551544 -116.920065                               1299.65   \n",
       "65   37.134732  -81.100814                                864.45   \n",
       "102  30.481088  -96.636569                               1055.70   \n",
       "\n",
       "     count_qualified           ...             yearly_sunlight_kwh_n  \\\n",
       "0                  2           ...                       4745.559338   \n",
       "65                 0           ...                          0.000000   \n",
       "102                0           ...                          0.000000   \n",
       "\n",
       "     yearly_sunlight_kwh_s  yearly_sunlight_kwh_e  yearly_sunlight_kwh_w  \\\n",
       "0               7692.07832                    0.0                    0.0   \n",
       "65                 0.00000                    0.0                    0.0   \n",
       "102                0.00000                    0.0                    0.0   \n",
       "\n",
       "     yearly_sunlight_kwh_f  yearly_sunlight_kwh_median  \\\n",
       "0                      0.0                 5209.464685   \n",
       "65                     0.0                         NaN   \n",
       "102                    0.0                         NaN   \n",
       "\n",
       "     yearly_sunlight_kwh_total  install_size_kw_buckets_json  \\\n",
       "0                 12437.637659                       [[0,2]]   \n",
       "65                         NaN                           NaN   \n",
       "102                        NaN                           NaN   \n",
       "\n",
       "     carbon_offset_metric_tons  existing_installs_count  \n",
       "0                          0.0                        0  \n",
       "65                         0.0                        0  \n",
       "102                        0.0                        0  \n",
       "\n",
       "[3 rows x 31 columns]"
      ]
     },
     "execution_count": 15,
     "metadata": {},
     "output_type": "execute_result"
    }
   ],
   "source": [
    "county[county.isnull().any(axis=1)] "
   ]
  },
  {
   "cell_type": "markdown",
   "metadata": {},
   "source": [
    "#### The 0th observation has NaN under the region's name, will be removing this row. 65th and 102nd observations of the dataframe has region names but with NaN values across the variables, replacing those NaN's with zero. Removing \"install_size_kw_buckets_json\" column, the data in this column is unreadable and will not be used in this project. "
   ]
  },
  {
   "cell_type": "code",
   "execution_count": 16,
   "metadata": {},
   "outputs": [],
   "source": [
    "county = county.drop(county.index[0])\n",
    "county = county.drop(\"install_size_kw_buckets_json\", axis=1)\n",
    "county = county.fillna(0)"
   ]
  },
  {
   "cell_type": "code",
   "execution_count": 17,
   "metadata": {},
   "outputs": [
    {
     "data": {
      "text/html": [
       "<div>\n",
       "<style scoped>\n",
       "    .dataframe tbody tr th:only-of-type {\n",
       "        vertical-align: middle;\n",
       "    }\n",
       "\n",
       "    .dataframe tbody tr th {\n",
       "        vertical-align: top;\n",
       "    }\n",
       "\n",
       "    .dataframe thead th {\n",
       "        text-align: right;\n",
       "    }\n",
       "</style>\n",
       "<table border=\"1\" class=\"dataframe\">\n",
       "  <thead>\n",
       "    <tr style=\"text-align: right;\">\n",
       "      <th></th>\n",
       "      <th>region_name</th>\n",
       "      <th>state_name</th>\n",
       "      <th>lat_max</th>\n",
       "      <th>lat_min</th>\n",
       "      <th>lng_max</th>\n",
       "      <th>lng_min</th>\n",
       "      <th>lat_avg</th>\n",
       "      <th>lng_avg</th>\n",
       "      <th>yearly_sunlight_kwh_kw_threshold_avg</th>\n",
       "      <th>count_qualified</th>\n",
       "      <th>...</th>\n",
       "      <th>kw_total</th>\n",
       "      <th>yearly_sunlight_kwh_n</th>\n",
       "      <th>yearly_sunlight_kwh_s</th>\n",
       "      <th>yearly_sunlight_kwh_e</th>\n",
       "      <th>yearly_sunlight_kwh_w</th>\n",
       "      <th>yearly_sunlight_kwh_f</th>\n",
       "      <th>yearly_sunlight_kwh_median</th>\n",
       "      <th>yearly_sunlight_kwh_total</th>\n",
       "      <th>carbon_offset_metric_tons</th>\n",
       "      <th>existing_installs_count</th>\n",
       "    </tr>\n",
       "  </thead>\n",
       "  <tbody>\n",
       "  </tbody>\n",
       "</table>\n",
       "<p>0 rows × 30 columns</p>\n",
       "</div>"
      ],
      "text/plain": [
       "Empty DataFrame\n",
       "Columns: [region_name, state_name, lat_max, lat_min, lng_max, lng_min, lat_avg, lng_avg, yearly_sunlight_kwh_kw_threshold_avg, count_qualified, percent_covered, percent_qualified, number_of_panels_n, number_of_panels_s, number_of_panels_e, number_of_panels_w, number_of_panels_f, number_of_panels_median, number_of_panels_total, kw_median, kw_total, yearly_sunlight_kwh_n, yearly_sunlight_kwh_s, yearly_sunlight_kwh_e, yearly_sunlight_kwh_w, yearly_sunlight_kwh_f, yearly_sunlight_kwh_median, yearly_sunlight_kwh_total, carbon_offset_metric_tons, existing_installs_count]\n",
       "Index: []\n",
       "\n",
       "[0 rows x 30 columns]"
      ]
     },
     "execution_count": 17,
     "metadata": {},
     "output_type": "execute_result"
    }
   ],
   "source": [
    "county[county.isnull().any(axis=1)] # checking if all operation are carried"
   ]
  },
  {
   "cell_type": "markdown",
   "metadata": {},
   "source": [
    "#### ============================================================================================================================\n",
    "## Cleaning the \"zipcode\" dataframe."
   ]
  },
  {
   "cell_type": "code",
   "execution_count": 38,
   "metadata": {},
   "outputs": [
    {
     "name": "stdout",
     "output_type": "stream",
     "text": [
      "Index(['region_name', 'state_name', 'lat_max', 'lat_min', 'lng_max', 'lng_min',\n",
      "       'lat_avg', 'lng_avg', 'yearly_sunlight_kwh_kw_threshold_avg',\n",
      "       'count_qualified', 'percent_covered', 'percent_qualified',\n",
      "       'number_of_panels_n', 'number_of_panels_s', 'number_of_panels_e',\n",
      "       'number_of_panels_w', 'number_of_panels_f', 'number_of_panels_median',\n",
      "       'number_of_panels_total', 'kw_median', 'kw_total',\n",
      "       'yearly_sunlight_kwh_n', 'yearly_sunlight_kwh_s',\n",
      "       'yearly_sunlight_kwh_e', 'yearly_sunlight_kwh_w',\n",
      "       'yearly_sunlight_kwh_f', 'yearly_sunlight_kwh_median',\n",
      "       'yearly_sunlight_kwh_total', 'install_size_kw_buckets_json',\n",
      "       'carbon_offset_metric_tons', 'existing_installs_count'],\n",
      "      dtype='object')\n",
      "(10621, 31)\n"
     ]
    }
   ],
   "source": [
    "document = \"zipcode.csv\"\n",
    "zipcode = pd.read_csv(document)\n",
    "print(zipcode.columns)\n",
    "print(zipcode.shape)"
   ]
  },
  {
   "cell_type": "code",
   "execution_count": 39,
   "metadata": {},
   "outputs": [
    {
     "data": {
      "text/html": [
       "<div>\n",
       "<style scoped>\n",
       "    .dataframe tbody tr th:only-of-type {\n",
       "        vertical-align: middle;\n",
       "    }\n",
       "\n",
       "    .dataframe tbody tr th {\n",
       "        vertical-align: top;\n",
       "    }\n",
       "\n",
       "    .dataframe thead th {\n",
       "        text-align: right;\n",
       "    }\n",
       "</style>\n",
       "<table border=\"1\" class=\"dataframe\">\n",
       "  <thead>\n",
       "    <tr style=\"text-align: right;\">\n",
       "      <th></th>\n",
       "      <th>region_name</th>\n",
       "      <th>state_name</th>\n",
       "      <th>lat_max</th>\n",
       "      <th>lat_min</th>\n",
       "      <th>lng_max</th>\n",
       "      <th>lng_min</th>\n",
       "      <th>lat_avg</th>\n",
       "      <th>lng_avg</th>\n",
       "      <th>yearly_sunlight_kwh_kw_threshold_avg</th>\n",
       "      <th>count_qualified</th>\n",
       "      <th>...</th>\n",
       "      <th>yearly_sunlight_kwh_n</th>\n",
       "      <th>yearly_sunlight_kwh_s</th>\n",
       "      <th>yearly_sunlight_kwh_e</th>\n",
       "      <th>yearly_sunlight_kwh_w</th>\n",
       "      <th>yearly_sunlight_kwh_f</th>\n",
       "      <th>yearly_sunlight_kwh_median</th>\n",
       "      <th>yearly_sunlight_kwh_total</th>\n",
       "      <th>install_size_kw_buckets_json</th>\n",
       "      <th>carbon_offset_metric_tons</th>\n",
       "      <th>existing_installs_count</th>\n",
       "    </tr>\n",
       "  </thead>\n",
       "  <tbody>\n",
       "    <tr>\n",
       "      <th>0</th>\n",
       "      <td>NaN</td>\n",
       "      <td>NaN</td>\n",
       "      <td>32.542257</td>\n",
       "      <td>32.542257</td>\n",
       "      <td>-117.030077</td>\n",
       "      <td>-117.030077</td>\n",
       "      <td>32.542257</td>\n",
       "      <td>-117.030077</td>\n",
       "      <td>1304.75</td>\n",
       "      <td>0</td>\n",
       "      <td>...</td>\n",
       "      <td>0.0</td>\n",
       "      <td>0.0</td>\n",
       "      <td>0.0</td>\n",
       "      <td>0.0</td>\n",
       "      <td>0.0</td>\n",
       "      <td>NaN</td>\n",
       "      <td>NaN</td>\n",
       "      <td>NaN</td>\n",
       "      <td>0.0</td>\n",
       "      <td>0</td>\n",
       "    </tr>\n",
       "    <tr>\n",
       "      <th>49</th>\n",
       "      <td>1534.0</td>\n",
       "      <td>Massachusetts</td>\n",
       "      <td>42.165631</td>\n",
       "      <td>42.109283</td>\n",
       "      <td>-71.600514</td>\n",
       "      <td>-71.693163</td>\n",
       "      <td>42.146958</td>\n",
       "      <td>-71.653393</td>\n",
       "      <td>982.60</td>\n",
       "      <td>0</td>\n",
       "      <td>...</td>\n",
       "      <td>0.0</td>\n",
       "      <td>0.0</td>\n",
       "      <td>0.0</td>\n",
       "      <td>0.0</td>\n",
       "      <td>0.0</td>\n",
       "      <td>NaN</td>\n",
       "      <td>NaN</td>\n",
       "      <td>NaN</td>\n",
       "      <td>0.0</td>\n",
       "      <td>0</td>\n",
       "    </tr>\n",
       "    <tr>\n",
       "      <th>552</th>\n",
       "      <td>6241.0</td>\n",
       "      <td>Connecticut</td>\n",
       "      <td>41.894109</td>\n",
       "      <td>41.815852</td>\n",
       "      <td>-71.794578</td>\n",
       "      <td>-71.911396</td>\n",
       "      <td>41.849817</td>\n",
       "      <td>-71.874645</td>\n",
       "      <td>979.20</td>\n",
       "      <td>0</td>\n",
       "      <td>...</td>\n",
       "      <td>0.0</td>\n",
       "      <td>0.0</td>\n",
       "      <td>0.0</td>\n",
       "      <td>0.0</td>\n",
       "      <td>0.0</td>\n",
       "      <td>NaN</td>\n",
       "      <td>NaN</td>\n",
       "      <td>NaN</td>\n",
       "      <td>0.0</td>\n",
       "      <td>0</td>\n",
       "    </tr>\n",
       "    <tr>\n",
       "      <th>821</th>\n",
       "      <td>7924.0</td>\n",
       "      <td>New Jersey</td>\n",
       "      <td>40.754979</td>\n",
       "      <td>40.695731</td>\n",
       "      <td>-74.553812</td>\n",
       "      <td>-74.617992</td>\n",
       "      <td>40.718322</td>\n",
       "      <td>-74.569466</td>\n",
       "      <td>996.20</td>\n",
       "      <td>0</td>\n",
       "      <td>...</td>\n",
       "      <td>0.0</td>\n",
       "      <td>0.0</td>\n",
       "      <td>0.0</td>\n",
       "      <td>0.0</td>\n",
       "      <td>0.0</td>\n",
       "      <td>NaN</td>\n",
       "      <td>NaN</td>\n",
       "      <td>NaN</td>\n",
       "      <td>0.0</td>\n",
       "      <td>0</td>\n",
       "    </tr>\n",
       "    <tr>\n",
       "      <th>829</th>\n",
       "      <td>7945.0</td>\n",
       "      <td>New Jersey</td>\n",
       "      <td>40.829728</td>\n",
       "      <td>40.746935</td>\n",
       "      <td>-74.544703</td>\n",
       "      <td>-74.647408</td>\n",
       "      <td>40.786822</td>\n",
       "      <td>-74.604299</td>\n",
       "      <td>983.45</td>\n",
       "      <td>0</td>\n",
       "      <td>...</td>\n",
       "      <td>0.0</td>\n",
       "      <td>0.0</td>\n",
       "      <td>0.0</td>\n",
       "      <td>0.0</td>\n",
       "      <td>0.0</td>\n",
       "      <td>NaN</td>\n",
       "      <td>NaN</td>\n",
       "      <td>NaN</td>\n",
       "      <td>0.0</td>\n",
       "      <td>0</td>\n",
       "    </tr>\n",
       "  </tbody>\n",
       "</table>\n",
       "<p>5 rows × 31 columns</p>\n",
       "</div>"
      ],
      "text/plain": [
       "     region_name     state_name    lat_max    lat_min     lng_max     lng_min  \\\n",
       "0            NaN            NaN  32.542257  32.542257 -117.030077 -117.030077   \n",
       "49        1534.0  Massachusetts  42.165631  42.109283  -71.600514  -71.693163   \n",
       "552       6241.0    Connecticut  41.894109  41.815852  -71.794578  -71.911396   \n",
       "821       7924.0     New Jersey  40.754979  40.695731  -74.553812  -74.617992   \n",
       "829       7945.0     New Jersey  40.829728  40.746935  -74.544703  -74.647408   \n",
       "\n",
       "       lat_avg     lng_avg  yearly_sunlight_kwh_kw_threshold_avg  \\\n",
       "0    32.542257 -117.030077                               1304.75   \n",
       "49   42.146958  -71.653393                                982.60   \n",
       "552  41.849817  -71.874645                                979.20   \n",
       "821  40.718322  -74.569466                                996.20   \n",
       "829  40.786822  -74.604299                                983.45   \n",
       "\n",
       "     count_qualified           ...             yearly_sunlight_kwh_n  \\\n",
       "0                  0           ...                               0.0   \n",
       "49                 0           ...                               0.0   \n",
       "552                0           ...                               0.0   \n",
       "821                0           ...                               0.0   \n",
       "829                0           ...                               0.0   \n",
       "\n",
       "     yearly_sunlight_kwh_s  yearly_sunlight_kwh_e  yearly_sunlight_kwh_w  \\\n",
       "0                      0.0                    0.0                    0.0   \n",
       "49                     0.0                    0.0                    0.0   \n",
       "552                    0.0                    0.0                    0.0   \n",
       "821                    0.0                    0.0                    0.0   \n",
       "829                    0.0                    0.0                    0.0   \n",
       "\n",
       "     yearly_sunlight_kwh_f  yearly_sunlight_kwh_median  \\\n",
       "0                      0.0                         NaN   \n",
       "49                     0.0                         NaN   \n",
       "552                    0.0                         NaN   \n",
       "821                    0.0                         NaN   \n",
       "829                    0.0                         NaN   \n",
       "\n",
       "     yearly_sunlight_kwh_total  install_size_kw_buckets_json  \\\n",
       "0                          NaN                           NaN   \n",
       "49                         NaN                           NaN   \n",
       "552                        NaN                           NaN   \n",
       "821                        NaN                           NaN   \n",
       "829                        NaN                           NaN   \n",
       "\n",
       "     carbon_offset_metric_tons  existing_installs_count  \n",
       "0                          0.0                        0  \n",
       "49                         0.0                        0  \n",
       "552                        0.0                        0  \n",
       "821                        0.0                        0  \n",
       "829                        0.0                        0  \n",
       "\n",
       "[5 rows x 31 columns]"
      ]
     },
     "execution_count": 39,
     "metadata": {},
     "output_type": "execute_result"
    }
   ],
   "source": [
    "zipcode[zipcode.isnull().any(axis=1)].head()"
   ]
  },
  {
   "cell_type": "code",
   "execution_count": 40,
   "metadata": {},
   "outputs": [
    {
     "data": {
      "text/plain": [
       "(36, 31)"
      ]
     },
     "execution_count": 40,
     "metadata": {},
     "output_type": "execute_result"
    }
   ],
   "source": [
    "null_zip = zipcode[zipcode.isnull().any(axis=1)]\n",
    "null_zip.shape # 36 rows with NaN's"
   ]
  },
  {
   "cell_type": "markdown",
   "metadata": {},
   "source": [
    "#### The 0th observation has NaN under the region's name, will be removing this row. The rest of the dataframe has region names but with 36 rows having NaN values across the variables, replacing those NaN's with zero. Removing \"install_size_kw_buckets_json\" column, the data in this column is unreadable and will not be used in this project. "
   ]
  },
  {
   "cell_type": "code",
   "execution_count": 41,
   "metadata": {},
   "outputs": [],
   "source": [
    "zipcode = zipcode.drop(zipcode.index[0])\n",
    "zipcode = zipcode.drop(\"install_size_kw_buckets_json\", axis=1)\n",
    "zipcode = zipcode.fillna(0)"
   ]
  },
  {
   "cell_type": "code",
   "execution_count": 42,
   "metadata": {},
   "outputs": [
    {
     "data": {
      "text/html": [
       "<div>\n",
       "<style scoped>\n",
       "    .dataframe tbody tr th:only-of-type {\n",
       "        vertical-align: middle;\n",
       "    }\n",
       "\n",
       "    .dataframe tbody tr th {\n",
       "        vertical-align: top;\n",
       "    }\n",
       "\n",
       "    .dataframe thead th {\n",
       "        text-align: right;\n",
       "    }\n",
       "</style>\n",
       "<table border=\"1\" class=\"dataframe\">\n",
       "  <thead>\n",
       "    <tr style=\"text-align: right;\">\n",
       "      <th></th>\n",
       "      <th>region_name</th>\n",
       "      <th>state_name</th>\n",
       "      <th>lat_max</th>\n",
       "      <th>lat_min</th>\n",
       "      <th>lng_max</th>\n",
       "      <th>lng_min</th>\n",
       "      <th>lat_avg</th>\n",
       "      <th>lng_avg</th>\n",
       "      <th>yearly_sunlight_kwh_kw_threshold_avg</th>\n",
       "      <th>count_qualified</th>\n",
       "      <th>...</th>\n",
       "      <th>kw_total</th>\n",
       "      <th>yearly_sunlight_kwh_n</th>\n",
       "      <th>yearly_sunlight_kwh_s</th>\n",
       "      <th>yearly_sunlight_kwh_e</th>\n",
       "      <th>yearly_sunlight_kwh_w</th>\n",
       "      <th>yearly_sunlight_kwh_f</th>\n",
       "      <th>yearly_sunlight_kwh_median</th>\n",
       "      <th>yearly_sunlight_kwh_total</th>\n",
       "      <th>carbon_offset_metric_tons</th>\n",
       "      <th>existing_installs_count</th>\n",
       "    </tr>\n",
       "  </thead>\n",
       "  <tbody>\n",
       "  </tbody>\n",
       "</table>\n",
       "<p>0 rows × 30 columns</p>\n",
       "</div>"
      ],
      "text/plain": [
       "Empty DataFrame\n",
       "Columns: [region_name, state_name, lat_max, lat_min, lng_max, lng_min, lat_avg, lng_avg, yearly_sunlight_kwh_kw_threshold_avg, count_qualified, percent_covered, percent_qualified, number_of_panels_n, number_of_panels_s, number_of_panels_e, number_of_panels_w, number_of_panels_f, number_of_panels_median, number_of_panels_total, kw_median, kw_total, yearly_sunlight_kwh_n, yearly_sunlight_kwh_s, yearly_sunlight_kwh_e, yearly_sunlight_kwh_w, yearly_sunlight_kwh_f, yearly_sunlight_kwh_median, yearly_sunlight_kwh_total, carbon_offset_metric_tons, existing_installs_count]\n",
       "Index: []\n",
       "\n",
       "[0 rows x 30 columns]"
      ]
     },
     "execution_count": 42,
     "metadata": {},
     "output_type": "execute_result"
    }
   ],
   "source": [
    "zipcode[zipcode.isnull().any(axis=1)] # checking if all operation are carried"
   ]
  },
  {
   "cell_type": "markdown",
   "metadata": {},
   "source": [
    "#### ============================================================================================================================\n",
    "## Checking all the dataframe sharing the same columns"
   ]
  },
  {
   "cell_type": "code",
   "execution_count": 96,
   "metadata": {},
   "outputs": [
    {
     "data": {
      "text/plain": [
       "array([ True,  True,  True,  True,  True,  True,  True,  True,  True,\n",
       "        True,  True,  True,  True,  True,  True,  True,  True,  True,\n",
       "        True,  True,  True,  True,  True,  True,  True,  True,  True,\n",
       "        True,  True,  True])"
      ]
     },
     "execution_count": 96,
     "metadata": {},
     "output_type": "execute_result"
    }
   ],
   "source": [
    "city.columns == state.columns"
   ]
  },
  {
   "cell_type": "code",
   "execution_count": 97,
   "metadata": {},
   "outputs": [
    {
     "data": {
      "text/plain": [
       "array([ True,  True,  True,  True,  True,  True,  True,  True,  True,\n",
       "        True,  True,  True,  True,  True,  True,  True,  True,  True,\n",
       "        True,  True,  True,  True,  True,  True,  True,  True,  True,\n",
       "        True,  True,  True])"
      ]
     },
     "execution_count": 97,
     "metadata": {},
     "output_type": "execute_result"
    }
   ],
   "source": [
    "county.columns == zip.columns"
   ]
  },
  {
   "cell_type": "code",
   "execution_count": 98,
   "metadata": {},
   "outputs": [
    {
     "data": {
      "text/plain": [
       "array([ True,  True,  True,  True,  True,  True,  True,  True,  True,\n",
       "        True,  True,  True,  True,  True,  True,  True,  True,  True,\n",
       "        True,  True,  True,  True,  True,  True,  True,  True,  True,\n",
       "        True,  True,  True])"
      ]
     },
     "execution_count": 98,
     "metadata": {},
     "output_type": "execute_result"
    }
   ],
   "source": [
    "state.columns == county.columns"
   ]
  },
  {
   "cell_type": "markdown",
   "metadata": {},
   "source": [
    "#### ==========================================================================================================================\n",
    "## Coverting all cleaned dataframe to csv files"
   ]
  },
  {
   "cell_type": "code",
   "execution_count": 29,
   "metadata": {},
   "outputs": [],
   "source": [
    "state.to_csv(r'/home/bhavya/Desktop/DV/DASH/state1.csv', index= None, header=True ) \n",
    "city.to_csv(r'/home/bhavya/Desktop/DV/DASH/city1.csv', index= None, header=True )\n",
    "county.to_csv(r'/home/bhavya/Desktop/DV/DASH/county1.csv', index= None, header=True )\n",
    "zipcode.to_csv(r'/home/bhavya/Desktop/DV/DASH/zipcode1.csv', index= None, header=True )"
   ]
  },
  {
   "cell_type": "markdown",
   "metadata": {},
   "source": [
    "#### ==========================================================================================================================\n",
    "## Removing unrequired columns from state1.csv for DASH web app input\n",
    "#### Converting the newly formed dataframe into a csv file \"state2.csv\" and rounding all the numbers upto decimal points only since the original had multiple digits after decimal, I will use this data file for running my DASH application for the Data Table."
   ]
  },
  {
   "cell_type": "code",
   "execution_count": 8,
   "metadata": {},
   "outputs": [
    {
     "name": "stdout",
     "output_type": "stream",
     "text": [
      "   state_name  percent_qualified  count_qualified  existing_installs_count  \\\n",
      "0     Alabama              78.46           700683                      549   \n",
      "1      Alaska              37.15            27583                       83   \n",
      "2     Arizona              91.62          1638999                    39553   \n",
      "3    Arkansas              75.68           322235                      238   \n",
      "4  California              87.05          7841387                   328899   \n",
      "\n",
      "   yearly_sunlight_kwh_total  carbon_offset_metric_tons  \n",
      "0               1.896138e+10                12022951.76  \n",
      "1               4.664927e+08                  192197.47  \n",
      "2               4.639329e+10                19913839.64  \n",
      "3               8.941609e+09                 5619080.89  \n",
      "4               1.980163e+11                54495607.01  \n"
     ]
    }
   ],
   "source": [
    "document = \"state1.csv\"\n",
    "us_state = pd.read_csv(document)\n",
    "us_states = us_state[[\"state_name\", \"percent_qualified\",\"count_qualified\",\"existing_installs_count\",\"yearly_sunlight_kwh_total\",\"carbon_offset_metric_tons\" ]] \n",
    "us_states = us_states.round(2)\n",
    "print(us_states.head())\n",
    "us_states.to_csv(r'/home/bhavya/Desktop/DV/DASH/state2.csv', index= None, header=True ) "
   ]
  },
  {
   "cell_type": "markdown",
   "metadata": {},
   "source": [
    "#### ==========================================================================================================================\n",
    "## Removing unrequired columns from state1.csv, zipcode1.csv, city1.csv, county1.csv for \n",
    "## DASH web app input\n",
    "##### \"state_cols.csv\" is created from selected columns of \"state1.csv\", the data from this columns is used for the carbon-offset paragraph's values update each time a state is selected in table of the app.\n",
    "##### zipcode2.csv,city2.csv,county2.csv is created from selected columns of zipcode1.csv,city1.csv and county1.csv for the map in the app.\n",
    "##### my intention here is to store smaller size files in digital ocean server."
   ]
  },
  {
   "cell_type": "code",
   "execution_count": 23,
   "metadata": {},
   "outputs": [],
   "source": [
    "document = \"state1.csv\"\n",
    "statecols = pd.read_csv(document)\n",
    "state_cols = statecols[['region_name','state_name','lat_avg','lng_avg', 'yearly_sunlight_kwh_total','count_qualified','existing_installs_count','yearly_sunlight_kwh_n','yearly_sunlight_kwh_s','yearly_sunlight_kwh_e','yearly_sunlight_kwh_w','yearly_sunlight_kwh_f','carbon_offset_metric_tons']]\n",
    "state_cols.to_csv(r'/home/bhavya/Desktop/DV/DASH/state_cols.csv', index= None, header=True ) "
   ]
  },
  {
   "cell_type": "code",
   "execution_count": 27,
   "metadata": {},
   "outputs": [],
   "source": [
    "document = \"zipcode1.csv\"\n",
    "zip_code = pd.read_csv(document)\n",
    "zipcode = zip_code[['region_name','state_name','lat_avg','lng_avg', 'yearly_sunlight_kwh_total','count_qualified','existing_installs_count','yearly_sunlight_kwh_n','yearly_sunlight_kwh_s','yearly_sunlight_kwh_e','yearly_sunlight_kwh_w','yearly_sunlight_kwh_f']]\n",
    "df = zipcode.sort_values(by='yearly_sunlight_kwh_total', ascending=False)\n",
    "df.to_csv(r'/home/bhavya/Desktop/DV/DASH/zipcode2.csv', index= None, header=True ) "
   ]
  },
  {
   "cell_type": "code",
   "execution_count": 15,
   "metadata": {},
   "outputs": [],
   "source": [
    "document = \"city1.csv\"\n",
    "city = pd.read_csv(document)\n",
    "city = city[['region_name','state_name','lat_avg','lng_avg', 'yearly_sunlight_kwh_total','count_qualified','existing_installs_count','yearly_sunlight_kwh_n','yearly_sunlight_kwh_s','yearly_sunlight_kwh_e','yearly_sunlight_kwh_w','yearly_sunlight_kwh_f']]\n",
    "df = city.sort_values(by='yearly_sunlight_kwh_total', ascending=False)\n",
    "df.to_csv(r'/home/bhavya/Desktop/DV/DASH/city2.csv', index= None, header=True ) "
   ]
  },
  {
   "cell_type": "code",
   "execution_count": 16,
   "metadata": {},
   "outputs": [],
   "source": [
    "document = \"county1.csv\"\n",
    "county = pd.read_csv(document)\n",
    "county = county[['region_name','state_name','lat_avg','lng_avg', 'yearly_sunlight_kwh_total','count_qualified','existing_installs_count','yearly_sunlight_kwh_n','yearly_sunlight_kwh_s','yearly_sunlight_kwh_e','yearly_sunlight_kwh_w','yearly_sunlight_kwh_f']]\n",
    "df = county.sort_values(by='yearly_sunlight_kwh_total', ascending=False)\n",
    "df.to_csv(r'/home/bhavya/Desktop/DV/DASH/county2.csv', index= None, header=True ) "
   ]
  },
  {
   "cell_type": "markdown",
   "metadata": {},
   "source": [
    "## Plotting the points on the map for DASH application.\n",
    "#### I want to let users choose options between county, city and zipcode of all the states or selected one of the USA. The user can look at the potential solar energy generation possible in their area of choice. encouraging them to install solar panels promoting renewable energy."
   ]
  },
  {
   "cell_type": "code",
   "execution_count": 1,
   "metadata": {},
   "outputs": [
    {
     "data": {
      "text/html": [
       "<script>requirejs.config({paths: { 'plotly': ['https://cdn.plot.ly/plotly-latest.min']},});if(!window.Plotly) {{require(['plotly'],function(plotly) {window.Plotly=plotly;});}}</script>"
      ],
      "text/vnd.plotly.v1+html": [
       "<script>requirejs.config({paths: { 'plotly': ['https://cdn.plot.ly/plotly-latest.min']},});if(!window.Plotly) {{require(['plotly'],function(plotly) {window.Plotly=plotly;});}}</script>"
      ]
     },
     "metadata": {},
     "output_type": "display_data"
    },
    {
     "data": {
      "text/html": [
       "<iframe id=\"igraph\" scrolling=\"no\" style=\"border:none;\" seamless=\"seamless\" src=\"https://plot.ly/~Bhavyaramgiri/118.embed\" height=\"525px\" width=\"100%\"></iframe>"
      ],
      "text/plain": [
       "<plotly.tools.PlotlyDisplay object>"
      ]
     },
     "execution_count": 1,
     "metadata": {},
     "output_type": "execute_result"
    }
   ],
   "source": [
    "import plotly.plotly as py\n",
    "import plotly.graph_objs as go\n",
    "from plotly.offline import download_plotlyjs, init_notebook_mode, plot, iplot\n",
    "from plotly import tools\n",
    "import pandas as pd\n",
    "import plotly as plotly\n",
    "init_notebook_mode(connected=True)\n",
    "\n",
    "mapbox_access_token = 'pk.eyJ1IjoiYmhhdnlhcmFtZ2lyaSIsImEiOiJjanR6d3lqdDgycng5M3lxdW5tcWN3bW5hIn0.15q7MVN8v1rkemwfomu-gA'\n",
    "df= pd.read_csv('/home/bhavya/Desktop/DV/DASH/zipcode2.csv')\n",
    "\n",
    "\n",
    "locations_name = df['region_name']# + ' ' + (df['yearly_sunlight_kwh_total']/1e6).astype(str)+' million Kwh'\n",
    "\n",
    "data = [\n",
    "    go.Scattermapbox(\n",
    "        lat=df['lat_avg'],\n",
    "        lon=df['lng_avg'],\n",
    "        mode='markers',\n",
    "        marker=go.scattermapbox.Marker(\n",
    "            size=5,\n",
    "            colorscale=[[0,'yellow'],[1,'orangered']],\n",
    "            opacity=0.7,\n",
    "            cmin = 0,\n",
    "            color = df['yearly_sunlight_kwh_total'],\n",
    "            cmax = df['yearly_sunlight_kwh_total'].max(),\n",
    "            colorbar=dict(\n",
    "                title=\"solar generation\"\n",
    "            )\n",
    "        ),\n",
    "        text= locations_name,\n",
    "        hoverinfo='text'\n",
    "    )]    \n",
    "layout = go.Layout(\n",
    "    title='trial1',\n",
    "    autosize=True,\n",
    "    hovermode='closest',\n",
    "    showlegend=False,\n",
    "    mapbox=go.layout.Mapbox(\n",
    "        accesstoken=mapbox_access_token,\n",
    "        bearing=0,\n",
    "        center=go.layout.mapbox.Center(\n",
    "            lat=38,\n",
    "            lon=-94\n",
    "        ),\n",
    "        pitch=0,\n",
    "        zoom=3,\n",
    "        style='dark'\n",
    "    ),\n",
    ")\n",
    "\n",
    "fig = go.Figure(data=data, layout=layout)\n",
    "py.iplot(fig, filename='trail1')"
   ]
  },
  {
   "cell_type": "markdown",
   "metadata": {},
   "source": [
    "#### since most of the zipcode points are below 200 million kwh potential solar energy generation, the color bar is not creating much of an impact which i am expecting.Therefore, i will divided the zipcodes in three equal parts as below in bubble map, this time using city2.csv data."
   ]
  },
  {
   "cell_type": "code",
   "execution_count": 4,
   "metadata": {},
   "outputs": [
    {
     "data": {
      "text/html": [
       "<script>requirejs.config({paths: { 'plotly': ['https://cdn.plot.ly/plotly-latest.min']},});if(!window.Plotly) {{require(['plotly'],function(plotly) {window.Plotly=plotly;});}}</script>"
      ],
      "text/vnd.plotly.v1+html": [
       "<script>requirejs.config({paths: { 'plotly': ['https://cdn.plot.ly/plotly-latest.min']},});if(!window.Plotly) {{require(['plotly'],function(plotly) {window.Plotly=plotly;});}}</script>"
      ]
     },
     "metadata": {},
     "output_type": "display_data"
    },
    {
     "data": {
      "text/html": [
       "<iframe id=\"igraph\" scrolling=\"no\" style=\"border:none;\" seamless=\"seamless\" src=\"https://plot.ly/~Bhavyaramgiri/114.embed\" height=\"525px\" width=\"100%\"></iframe>"
      ],
      "text/plain": [
       "<plotly.tools.PlotlyDisplay object>"
      ]
     },
     "execution_count": 4,
     "metadata": {},
     "output_type": "execute_result"
    }
   ],
   "source": [
    "import plotly.plotly as py\n",
    "import plotly.graph_objs as go\n",
    "from plotly.offline import download_plotlyjs, init_notebook_mode, plot, iplot\n",
    "from plotly import tools\n",
    "init_notebook_mode(connected=True)\n",
    "import pandas as pd\n",
    "import plotly as plotly\n",
    "\n",
    "df_unsorted = pd.read_csv('/home/bhavya/Desktop/DV/DASH/city2.csv')\n",
    "df = df_unsorted.sort_values(by='yearly_sunlight_kwh_total', ascending=False)\n",
    "df.head()\n",
    "\n",
    "df['text'] = df['region_name'] + ', ' + (df['yearly_sunlight_kwh_total']/1e6).astype(str)+' million Kwh'\n",
    "limits = [(0,10),(11,1000),(1001,7928)]#cities\n",
    "#limits = [(0,19942),(19943,39884),(39885,59826),(59827,79768),(79769,99711)]#county\n",
    "colors = ['Orangered','yellow','lightgreen']\n",
    "region_zip = []\n",
    "scale = 10000000\n",
    "\n",
    "for i in range(len(limits)):\n",
    "    lim = limits[i]\n",
    "    df_sub = df[lim[0]:lim[1]]\n",
    "    county = go.Scattergeo(\n",
    "        locationmode = 'USA-states',\n",
    "        lon = df_sub['lng_avg'],\n",
    "        lat = df_sub['lat_avg'],\n",
    "        #text = df_sub['text'],\n",
    "        marker = go.scattergeo.Marker(\n",
    "            size = df_sub['yearly_sunlight_kwh_total']/scale,\n",
    "            #size = 5,\n",
    "            opacity = 0.5,\n",
    "            color = colors[i],\n",
    "            sizemode = 'area'\n",
    "        ),\n",
    "        name = '{0} - {1}'.format(lim[0],lim[1]) )\n",
    "    region_zip.append(county)\n",
    "\n",
    "layout = go.Layout(\n",
    "        title = 'Trial 2',\n",
    "        showlegend = True,\n",
    "        geo = go.layout.Geo(\n",
    "            scope = 'usa',\n",
    "            projection = go.layout.geo.Projection(\n",
    "                type='albers usa'\n",
    "            ),\n",
    "            showland = True,\n",
    "            landcolor = 'black',\n",
    "            subunitwidth=1,\n",
    "            countrywidth=1,\n",
    "            subunitcolor=\"rgb(255, 255, 255)\",\n",
    "            countrycolor=\"rgb(255, 255, 255)\"\n",
    "        )\n",
    "    )\n",
    "\n",
    "fig = go.Figure(data=region_zip, layout=layout)\n",
    "py.iplot(fig, filename='d3-bubble-map-solar')"
   ]
  },
  {
   "cell_type": "markdown",
   "metadata": {},
   "source": [
    "#### The choropleth map does not produce the asthetic quality as map box delivers and the bubbles seems to be more cluttered than points. so i am trying to plot again in map box with the equal 3 part division of data on zipcode2.csv."
   ]
  },
  {
   "cell_type": "code",
   "execution_count": 5,
   "metadata": {},
   "outputs": [
    {
     "data": {
      "text/html": [
       "<script>requirejs.config({paths: { 'plotly': ['https://cdn.plot.ly/plotly-latest.min']},});if(!window.Plotly) {{require(['plotly'],function(plotly) {window.Plotly=plotly;});}}</script>"
      ],
      "text/vnd.plotly.v1+html": [
       "<script>requirejs.config({paths: { 'plotly': ['https://cdn.plot.ly/plotly-latest.min']},});if(!window.Plotly) {{require(['plotly'],function(plotly) {window.Plotly=plotly;});}}</script>"
      ]
     },
     "metadata": {},
     "output_type": "display_data"
    },
    {
     "data": {
      "text/html": [
       "<iframe id=\"igraph\" scrolling=\"no\" style=\"border:none;\" seamless=\"seamless\" src=\"https://plot.ly/~Bhavyaramgiri/132.embed\" height=\"525px\" width=\"100%\"></iframe>"
      ],
      "text/plain": [
       "<plotly.tools.PlotlyDisplay object>"
      ]
     },
     "execution_count": 5,
     "metadata": {},
     "output_type": "execute_result"
    }
   ],
   "source": [
    "import plotly.plotly as py\n",
    "import plotly.graph_objs as go\n",
    "from plotly.offline import download_plotlyjs, init_notebook_mode, plot, iplot\n",
    "from plotly import tools\n",
    "init_notebook_mode(connected=True)\n",
    "import pandas as pd\n",
    "import plotly as plotly\n",
    "\n",
    "mapbox_access_token = 'pk.eyJ1IjoiYmhhdnlhcmFtZ2lyaSIsImEiOiJjanR6d3lqdDgycng5M3lxdW5tcWN3bW5hIn0.15q7MVN8v1rkemwfomu-gA'\n",
    "df= pd.read_csv('/home/bhavya/Desktop/DV/DASH/zipcode2.csv')\n",
    "df_1 = df[0:3540]\n",
    "df_2 = df[3540:7080]\n",
    "df_3 = df[7080:10621]\n",
    "site_lat1 = df_1['lat_avg']\n",
    "site_lon1 = df_1['lng_avg']\n",
    "site_lat2 = df_2['lat_avg']\n",
    "site_lon2 = df_2['lng_avg']\n",
    "site_lat3 = df_3['lat_avg']\n",
    "site_lon3 = df_3['lng_avg']\n",
    "\n",
    "locations_name = df['region_name']# + ' ' + (df['yearly_sunlight_kwh_total']/1e6).astype(str)+' million Kwh'\n",
    "\n",
    "data = [\n",
    "    go.Scattermapbox(\n",
    "        lat=site_lat1,\n",
    "        lon=site_lon1,\n",
    "        mode='markers',\n",
    "        marker=go.scattermapbox.Marker(\n",
    "            size=15,\n",
    "            color='orangered',\n",
    "            opacity=0.3\n",
    "        ),\n",
    "        text= locations_name,\n",
    "        hoverinfo='text'\n",
    "    ),\n",
    "    go.Scattermapbox(\n",
    "        lat=site_lat2,\n",
    "        lon=site_lon2,\n",
    "        mode='markers',\n",
    "        marker=go.scattermapbox.Marker(\n",
    "            size=10,\n",
    "            color='yellow',\n",
    "            opacity=0.4\n",
    "        ),\n",
    "        text= locations_name,\n",
    "        hoverinfo='text'\n",
    "    ),\n",
    "     go.Scattermapbox(\n",
    "        lat=site_lat3,\n",
    "        lon=site_lon3,\n",
    "        mode='markers',\n",
    "        marker=go.scattermapbox.Marker(\n",
    "            size=4,\n",
    "            color='lightgreen',\n",
    "            opacity=0.5\n",
    "        ),\n",
    "        text= locations_name,\n",
    "        hoverinfo='text'\n",
    "     )]\n",
    "        \n",
    "layout = go.Layout(\n",
    "    title='trial 3',\n",
    "    autosize=True,\n",
    "    hovermode='closest',\n",
    "    showlegend=True,\n",
    "    mapbox=go.layout.Mapbox(\n",
    "        accesstoken=mapbox_access_token,\n",
    "        bearing=0,\n",
    "        center=go.layout.mapbox.Center(\n",
    "            lat=38,\n",
    "            lon=-94\n",
    "        ),\n",
    "        pitch=0,\n",
    "        zoom=3,\n",
    "        style='dark'\n",
    "    ),\n",
    ")\n",
    "\n",
    "fig = go.Figure(data=data, layout=layout)\n",
    "py.iplot(fig, filename='trail2')"
   ]
  },
  {
   "cell_type": "markdown",
   "metadata": {},
   "source": [
    "#### The above map box scatter plot looks better, it will be the part of my dash app where user can select county, city or zipcode points to display on the map"
   ]
  },
  {
   "cell_type": "markdown",
   "metadata": {},
   "source": [
    "## BAR chart\n",
    "#### The bar chart is plotted from \"state_cols.csv\" file, the first bar shows the number of buildings qualified for solar panel(the buildings that dont have solar panels installed) and the second bar shows the exsisting building with solar panels. This will give the viewers the constrast difference between both the bars. The graph will update with the selection of the states in the table of app."
   ]
  },
  {
   "cell_type": "code",
   "execution_count": 25,
   "metadata": {},
   "outputs": [
    {
     "data": {
      "text/html": [
       "<iframe id=\"igraph\" scrolling=\"no\" style=\"border:none;\" seamless=\"seamless\" src=\"https://plot.ly/~Bhavyaramgiri/124.embed\" height=\"525px\" width=\"100%\"></iframe>"
      ],
      "text/plain": [
       "<plotly.tools.PlotlyDisplay object>"
      ]
     },
     "execution_count": 25,
     "metadata": {},
     "output_type": "execute_result"
    }
   ],
   "source": [
    "import plotly.plotly as py\n",
    "import plotly.graph_objs as go\n",
    "state_cols = pd.read_csv('/home/bhavya/Desktop/DV/DASH/state_cols.csv')\n",
    "annotations=[\n",
    "        dict(\n",
    "            x=1,\n",
    "            y=50000000,\n",
    "            xref='x',\n",
    "            yref='y',\n",
    "            text=\"If all buildings have solar panels installed,<br>the potential CO2 abatement in metric tons is: %d\" % ((state_cols.carbon_offset_metric_tons).sum()),\n",
    "            font=dict(size=15,color='#000000'),\n",
    "            showarrow=False )]\n",
    "trace0 = go.Bar(\n",
    "    x=['Number of buildings qualified<br>for solar panel installation', 'Number of buildings with<br>installed solar panels'],\n",
    "    y=[(state_cols.count_qualified).sum(), (state_cols.existing_installs_count).sum()],\n",
    "    marker=dict(\n",
    "        color=['#ffcc00','#ff4700'],\n",
    "        #line=dict(\n",
    "            #color=['#ff4700','#ffcc00'],\n",
    "            #width=5,\n",
    "        #)\n",
    "    ),\n",
    "    opacity=0.6\n",
    ")\n",
    "\n",
    "data = [trace0]\n",
    "layout = go.Layout(\n",
    "    title='Solar panel installations',\n",
    "    annotations=annotations\n",
    ")\n",
    "\n",
    "fig = go.Figure(data=data, layout=layout)\n",
    "py.iplot(fig, filename='text-hover-bar')"
   ]
  },
  {
   "cell_type": "markdown",
   "metadata": {},
   "source": [
    "## Pie chart\n",
    "#### The piechart has 5 parts in them, which shows the potential solar power that can be generated based on different roof directions.The graph will update with the selection of the states in the table of app."
   ]
  },
  {
   "cell_type": "code",
   "execution_count": 26,
   "metadata": {},
   "outputs": [
    {
     "data": {
      "text/html": [
       "<iframe id=\"igraph\" scrolling=\"no\" style=\"border:none;\" seamless=\"seamless\" src=\"https://plot.ly/~Bhavyaramgiri/130.embed\" height=\"525px\" width=\"100%\"></iframe>"
      ],
      "text/plain": [
       "<plotly.tools.PlotlyDisplay object>"
      ]
     },
     "execution_count": 26,
     "metadata": {},
     "output_type": "execute_result"
    }
   ],
   "source": [
    "import plotly.plotly as py\n",
    "import plotly.graph_objs as go\n",
    "\n",
    "north = (state_cols.yearly_sunlight_kwh_n).sum()\n",
    "south = (state_cols.yearly_sunlight_kwh_s).sum()\n",
    "east = (state_cols.yearly_sunlight_kwh_e).sum()\n",
    "west = (state_cols.yearly_sunlight_kwh_w).sum()\n",
    "flat = (state_cols.yearly_sunlight_kwh_f).sum()\n",
    "fig = {\n",
    "  \"data\": [\n",
    "    {\n",
    "      \"values\": [north, south, east, west, flat],\n",
    "      \"labels\": [\"north\",\"south\",\"east\",\"west\",\"flat\"],\n",
    "      \"domain\": {\"column\": 0},\n",
    "      \"name\": \"Roof facing\",\n",
    "      \"hoverinfo\":\"label+percent+name\",\n",
    "      \"hole\": .4,\n",
    "      \"type\": \"pie\",\n",
    "      \"marker\": {'colors': [\"#94f08f\",\"#ff5973\",\"#ffcc00\",\"#ff4700\",\"#33c9cf\"],\n",
    "                 'line':dict(color='#000000', width=5)},\n",
    "      \"opacity\" : 0.8,\n",
    "    }],\n",
    "  \"layout\": {\n",
    "        \"title\":\"Yearly solar energy generation potential<br>for all roof space.\",\n",
    "        \"annotations\": [\n",
    "            {\n",
    "                \"font\": {\n",
    "                    \"size\": 20\n",
    "                },\n",
    "                \"showarrow\": False,\n",
    "                \"text\": \"roof facing\",\n",
    "                \"x\": 0.5,\n",
    "                \"y\": 0.5\n",
    "            }\n",
    "        ]\n",
    "    }\n",
    "}\n",
    "py.iplot(fig, filename='donut')"
   ]
  },
  {
   "cell_type": "markdown",
   "metadata": {},
   "source": [
    "#### If the potential solar panels are not installed, this in turn will allow certain amount of carbon dioxide production; To let user connect and understand this quantity I am including the amount of trees in acres required to consume the same quantity of CO2. The link below give the equivalent ratio\n",
    "\n",
    "https://www.epa.gov/energy/greenhouse-gas-equivalencies-calculator"
   ]
  },
  {
   "cell_type": "code",
   "execution_count": null,
   "metadata": {},
   "outputs": [],
   "source": []
  }
 ],
 "metadata": {
  "kernelspec": {
   "display_name": "Python 3",
   "language": "python",
   "name": "python3"
  },
  "language_info": {
   "codemirror_mode": {
    "name": "ipython",
    "version": 3
   },
   "file_extension": ".py",
   "mimetype": "text/x-python",
   "name": "python",
   "nbconvert_exporter": "python",
   "pygments_lexer": "ipython3",
   "version": "3.6.8"
  }
 },
 "nbformat": 4,
 "nbformat_minor": 2
}
